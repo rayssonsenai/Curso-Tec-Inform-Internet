{
 "cells": [
  {
   "cell_type": "code",
   "execution_count": 1,
   "metadata": {},
   "outputs": [
    {
     "name": "stdout",
     "output_type": "stream",
     "text": [
      "Hello World!\n"
     ]
    }
   ],
   "source": [
    "print('Hello World!')"
   ]
  },
  {
   "cell_type": "code",
   "execution_count": 36,
   "metadata": {},
   "outputs": [
    {
     "name": "stdout",
     "output_type": "stream",
     "text": [
      "A idade de Fulano de tau, é -> 111\n",
      "A idade de  Fulano de tau , é -> 111\n"
     ]
    }
   ],
   "source": [
    "# Tudo de novo (╯°□°）╯︵ ┻━┻\n",
    "nome = 'Fulano de tau'\n",
    "idade=111\n",
    "print(f'A idade de {nome}, é -> {idade}')\n",
    "print('A idade de ',nome,', é ->',idade)\n"
   ]
  },
  {
   "cell_type": "code",
   "execution_count": null,
   "metadata": {},
   "outputs": [],
   "source": [
    "inteiro = 123\n",
    "texto = 'Nome Seila'\n",
    "real = 10.5\n",
    "boleano = true # Or false."
   ]
  },
  {
   "cell_type": "markdown",
   "metadata": {},
   "source": []
  },
  {
   "cell_type": "code",
   "execution_count": 44,
   "metadata": {},
   "outputs": [
    {
     "name": "stdout",
     "output_type": "stream",
     "text": [
      "_-_-_-_-_-_-_-_-_-_-_-_-_-_-_-_-_-_-_-_-_-_-_-_-_-_-_-_-_-_-_-_-_-_-_-_-_-_-_-_-_-_-_-_-_-_-_-_-_-_-_-_-_-_-_-_-_-_-_-_-\n",
      "Ele e um Gigante de 4.7 metros 🧟‍♂️.\n",
      "-_-_-_-_-_-_-_-_-_-_-_-_-_-_-_-_-_-_-_-_-_-_-_-_-_-_-_-_-_-_-_-_-_-_-_-_-_-_-_-_-_-_-_-_-_-_-_-_-_-_-_-_-_-_-_-_-_-_-_-_\n"
     ]
    }
   ],
   "source": [
    "nome = 'Gigante'\n",
    "altura = 4.7\n",
    "print (\"_-\"*60)\n",
    "print (f'Ele e um {nome} de {altura} metros 🧟‍♂️.')\n",
    "print (\"-_\"*60)\n",
    "\n"
   ]
  },
  {
   "cell_type": "code",
   "execution_count": 51,
   "metadata": {},
   "outputs": [
    {
     "name": "stdout",
     "output_type": "stream",
     "text": [
      "<class 'int'>\n",
      "O resultado é 123124.\n"
     ]
    }
   ],
   "source": [
    "X=20\n",
    "print(type(X))\n",
    "\n",
    "soma=123123+1\n",
    "print(f'O resultado é {soma}.')"
   ]
  }
 ],
 "metadata": {
  "kernelspec": {
   "display_name": "Python 3",
   "language": "python",
   "name": "python3"
  },
  "language_info": {
   "codemirror_mode": {
    "name": "ipython",
    "version": 3
   },
   "file_extension": ".py",
   "mimetype": "text/x-python",
   "name": "python",
   "nbconvert_exporter": "python",
   "pygments_lexer": "ipython3",
   "version": "3.12.0"
  }
 },
 "nbformat": 4,
 "nbformat_minor": 2
}
